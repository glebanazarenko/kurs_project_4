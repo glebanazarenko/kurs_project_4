{
 "cells": [
  {
   "cell_type": "code",
   "execution_count": 1,
   "metadata": {},
   "outputs": [],
   "source": [
    "from bookAnalyzer import BookAnalyzer\n",
    "\n",
    "# Инициализируем объект BookAnalyzer с базой данных books.db\n",
    "analyzer = BookAnalyzer('books.db')"
   ]
  },
  {
   "cell_type": "code",
   "execution_count": 2,
   "metadata": {},
   "outputs": [
    {
     "name": "stderr",
     "output_type": "stream",
     "text": [
      "incorrect startxref pointer(1)\n"
     ]
    }
   ],
   "source": [
    "# Обрабатываем каталог 'books' с учетом файлов типа 'pdf', исключая подкаталог 'exclude_dir'\n",
    "analyzer.process_directory('books', ['pdf'], ['exclude_dir'], 5)"
   ]
  },
  {
   "cell_type": "code",
   "execution_count": 3,
   "metadata": {},
   "outputs": [
    {
     "ename": "TypeError",
     "evalue": "tuple indices must be integers or slices, not str",
     "output_type": "error",
     "traceback": [
      "\u001b[1;31m---------------------------------------------------------------------------\u001b[0m",
      "\u001b[1;31mTypeError\u001b[0m                                 Traceback (most recent call last)",
      "Cell \u001b[1;32mIn[3], line 2\u001b[0m\n\u001b[0;32m      1\u001b[0m \u001b[39m# Генерируем веб-страницу 'books.html' с информацией о книгах\u001b[39;00m\n\u001b[1;32m----> 2\u001b[0m analyzer\u001b[39m.\u001b[39;49mgenerate_web_page(\u001b[39m'\u001b[39;49m\u001b[39mbooks.html\u001b[39;49m\u001b[39m'\u001b[39;49m)\n",
      "File \u001b[1;32mc:\\Users\\79251\\Desktop\\ВУЗ\\4 семестр\\Курсовой проект\\kurs_project_4\\bookAnalyzer.py:108\u001b[0m, in \u001b[0;36mBookAnalyzer.generate_web_page\u001b[1;34m(self, output_path)\u001b[0m\n\u001b[0;32m    106\u001b[0m \u001b[39m# Конвертируем превью из BLOB в base64 для отображения на веб-странице\u001b[39;00m\n\u001b[0;32m    107\u001b[0m \u001b[39mfor\u001b[39;00m book \u001b[39min\u001b[39;00m books:\n\u001b[1;32m--> 108\u001b[0m     book[\u001b[39m'\u001b[39m\u001b[39mpreview\u001b[39m\u001b[39m'\u001b[39m] \u001b[39m=\u001b[39m base64\u001b[39m.\u001b[39mb64encode(book[\u001b[39m'\u001b[39;49m\u001b[39mpreview\u001b[39;49m\u001b[39m'\u001b[39;49m])\u001b[39m.\u001b[39mdecode(\u001b[39m'\u001b[39m\u001b[39mutf-8\u001b[39m\u001b[39m'\u001b[39m)\n\u001b[0;32m    110\u001b[0m \u001b[39m# Загружаем шаблон из файла\u001b[39;00m\n\u001b[0;32m    111\u001b[0m env \u001b[39m=\u001b[39m Environment(loader\u001b[39m=\u001b[39mFileSystemLoader(\u001b[39m'\u001b[39m\u001b[39m.\u001b[39m\u001b[39m'\u001b[39m))\n",
      "\u001b[1;31mTypeError\u001b[0m: tuple indices must be integers or slices, not str"
     ]
    }
   ],
   "source": [
    "# Генерируем веб-страницу 'books.html' с информацией о книгах\n",
    "analyzer.generate_web_page('books.html')"
   ]
  },
  {
   "cell_type": "code",
   "execution_count": 14,
   "metadata": {},
   "outputs": [
    {
     "data": {
      "text/html": [
       "<table>\n",
       "    <thead>\n",
       "        <tr>\n",
       "            <th>id</th>\n",
       "            <th>title</th>\n",
       "            <th>author</th>\n",
       "            <th>publication_year</th>\n",
       "            <th>file_path</th>\n",
       "            <th>file_size</th>\n",
       "            <th>num_pages</th>\n",
       "            <th>preview</th>\n",
       "            <th>metadata</th>\n",
       "        </tr>\n",
       "    </thead>\n",
       "    <tbody>\n",
       "        <tr>\n",
       "            <td>1</td>\n",
       "            <td>None</td>\n",
       "            <td>None</td>\n",
       "            <td>None</td>\n",
       "            <td>books\\98954389.a4.pdf</td>\n",
       "            <td>None</td>\n",
       "            <td>20</td>\n",
       "            <td>None</td>\n",
       "            <td>{&#x27;/Creator&#x27;: &#x27;Apache FOP Version svn-trunk&#x27;, &#x27;/CreationDate&#x27;: &quot;D:20230515224139+03&#x27;00&#x27;&quot;, &#x27;/Producer&#x27;: &#x27;Apache FOP Version svn-trunk&#x27;, &#x27;/Subject&#x27;: &#x27;home_health&#x27;, &#x27;/Author&#x27;: &#x27;Джеймс Мартин Пиблз&#x27;, &#x27;/Title&#x27;: &#x27;Как прожить сто лет и изящно состариться&#x27;}</td>\n",
       "        </tr>\n",
       "        <tr>\n",
       "            <td>2</td>\n",
       "            <td>None</td>\n",
       "            <td>None</td>\n",
       "            <td>None</td>\n",
       "            <td>books\\HP_1_-_Harry_Potter_and_the_Philosopher&#x27;s_Stone.pdf</td>\n",
       "            <td>None</td>\n",
       "            <td>231</td>\n",
       "            <td>None</td>\n",
       "            <td>{&#x27;/CreationDate&#x27;: &quot;D:20090817225108+10&#x27;00&#x27;&quot;, &#x27;/Subject&#x27;: &#x27;Reference Quality Electronic Book Version of the British Bloomsbury Hard Cover&#x27;, &#x27;/Author&#x27;: &#x27;J.K. Rowling&#x27;, &#x27;/Creator&#x27;: &#x27;PScript5.dll Version 5.2&#x27;, &#x27;/Keywords&#x27;: &#x27;Rescued from the outrageous neglect of his aunt and uncle; a young boy with a great destiny proves his worth while attending Hogwarts School of Witchcraft and Wizardry.&#x27;, &#x27;/Producer&#x27;: &#x27;Acrobat Distiller 7.0 (Windows)&#x27;, &#x27;/ModDate&#x27;: &quot;D:20090817225334+10&#x27;00&#x27;&quot;, &#x27;/Title&#x27;: &quot;Harry Potter and the Philosopher&#x27;s Stone&quot;}</td>\n",
       "        </tr>\n",
       "    </tbody>\n",
       "</table>"
      ],
      "text/plain": [
       "+----+-------+--------+------------------+-----------------------------------------------------------+-----------+-----------+---------+-----------------------------------------------------------------------------------------------------------------------------------------------------------------------------------------------------------------------------------------------------------------------------------------------------------------------------------------------------------------------------------------------------------------------------------------------------------------------------------------------------------------------------------------------------+\n",
       "| id | title | author | publication_year |                         file_path                         | file_size | num_pages | preview |                                                                                                                                                                                                                                                                       metadata                                                                                                                                                                                                                                                                      |\n",
       "+----+-------+--------+------------------+-----------------------------------------------------------+-----------+-----------+---------+-----------------------------------------------------------------------------------------------------------------------------------------------------------------------------------------------------------------------------------------------------------------------------------------------------------------------------------------------------------------------------------------------------------------------------------------------------------------------------------------------------------------------------------------------------+\n",
       "| 1  |  None |  None  |       None       |                   books\\98954389.a4.pdf                   |    None   |     20    |   None  |                                                                                                                                               {'/Creator': 'Apache FOP Version svn-trunk', '/CreationDate': \"D:20230515224139+03'00'\", '/Producer': 'Apache FOP Version svn-trunk', '/Subject': 'home_health', '/Author': 'Джеймс Мартин Пиблз', '/Title': 'Как прожить сто лет и изящно состариться'}                                                                                                                                              |\n",
       "| 2  |  None |  None  |       None       | books\\HP_1_-_Harry_Potter_and_the_Philosopher's_Stone.pdf |    None   |    231    |   None  | {'/CreationDate': \"D:20090817225108+10'00'\", '/Subject': 'Reference Quality Electronic Book Version of the British Bloomsbury Hard Cover', '/Author': 'J.K. Rowling', '/Creator': 'PScript5.dll Version 5.2', '/Keywords': 'Rescued from the outrageous neglect of his aunt and uncle; a young boy with a great destiny proves his worth while attending Hogwarts School of Witchcraft and Wizardry.', '/Producer': 'Acrobat Distiller 7.0 (Windows)', '/ModDate': \"D:20090817225334+10'00'\", '/Title': \"Harry Potter and the Philosopher's Stone\"} |\n",
       "+----+-------+--------+------------------+-----------------------------------------------------------+-----------+-----------+---------+-----------------------------------------------------------------------------------------------------------------------------------------------------------------------------------------------------------------------------------------------------------------------------------------------------------------------------------------------------------------------------------------------------------------------------------------------------------------------------------------------------------------------------------------------------+"
      ]
     },
     "execution_count": 14,
     "metadata": {},
     "output_type": "execute_result"
    }
   ],
   "source": [
    "import sqlite3\n",
    "from prettytable import from_db_cursor\n",
    "\n",
    "# Создаем соединение с БД\n",
    "conn = sqlite3.connect('books.db')\n",
    "cursor = conn.cursor()\n",
    "\n",
    "# Пример запроса: получаем все книги, опубликованные после 2000 года\n",
    "cursor.execute(\"SELECT * FROM books\")\n",
    "from_db_cursor(cursor)"
   ]
  },
  {
   "cell_type": "code",
   "execution_count": 15,
   "metadata": {},
   "outputs": [],
   "source": [
    "# Закрываем соединение\n",
    "conn.close()"
   ]
  }
 ],
 "metadata": {
  "kernelspec": {
   "display_name": "Python 3",
   "language": "python",
   "name": "python3"
  },
  "language_info": {
   "codemirror_mode": {
    "name": "ipython",
    "version": 3
   },
   "file_extension": ".py",
   "mimetype": "text/x-python",
   "name": "python",
   "nbconvert_exporter": "python",
   "pygments_lexer": "ipython3",
   "version": "3.11.2"
  },
  "orig_nbformat": 4
 },
 "nbformat": 4,
 "nbformat_minor": 2
}
