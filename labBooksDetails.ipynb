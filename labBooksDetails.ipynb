{
 "cells": [
  {
   "attachments": {},
   "cell_type": "markdown",
   "metadata": {},
   "source": [
    "# Курсовой проект 2 курс\n",
    "\n",
    "Файл с заданием\n",
    "https://docs.google.com/document/d/1MsRGsYIjr5tt6F78gV0o7QPw0jTChqkLM2v3KcLbJAk/edit"
   ]
  },
  {
   "cell_type": "code",
   "execution_count": 1,
   "metadata": {},
   "outputs": [],
   "source": [
    "from bookAnalyzer import BookAnalyzer\n",
    "\n",
    "# Инициализируем объект BookAnalyzer с базой данных books.db\n",
    "analyzer = BookAnalyzer('books.db')"
   ]
  },
  {
   "cell_type": "code",
   "execution_count": 2,
   "metadata": {},
   "outputs": [
    {
     "name": "stderr",
     "output_type": "stream",
     "text": [
      "incorrect startxref pointer(1)\n"
     ]
    },
    {
     "name": "stdout",
     "output_type": "stream",
     "text": [
      "{'/Creator': 'Apache FOP Version svn-trunk', '/CreationDate': \"D:20230515224139+03'00'\", '/Producer': 'Apache FOP Version svn-trunk', '/Subject': 'home_health', '/Author': 'Джеймс Мартин Пиблз', '/Title': 'Как прожить сто лет и изящно состариться'}\n",
      "309.5 КБ\n",
      "{'/CreationDate': \"D:20090817225108+10'00'\", '/Subject': 'Reference Quality Electronic Book Version of the British Bloomsbury Hard Cover', '/Author': 'J.K. Rowling', '/Creator': 'PScript5.dll Version 5.2', '/Keywords': 'Rescued from the outrageous neglect of his aunt and uncle; a young boy with a great destiny proves his worth while attending Hogwarts School of Witchcraft and Wizardry.', '/Producer': 'Acrobat Distiller 7.0 (Windows)', '/ModDate': \"D:20090817225334+10'00'\", '/Title': \"Harry Potter and the Philosopher's Stone\"}\n",
      "1.1 МБ\n",
      "{'/CreationDate': \"D:20090813171622+10'00'\", '/Subject': 'Reference Quality Electronic Book Version of the British Bloomsbury Hard Cover', '/Author': 'J.K. Rowling', '/Creator': 'PScript5.dll Version 5.2', '/Keywords': 'When the Chamber of Secrets is opened again at the Hogwarts School of Witchcraft and Wizardry; second-year student Harry Potter finds himself in danger from a dark power that has once more been released on the school.', '/Producer': 'Acrobat Distiller 7.0 (Windows)', '/ModDate': \"D:20090813171838+10'00'\", '/Title': 'Harry Potter and the Chamber of Secrets'}\n",
      "1.2 МБ\n",
      "{'/CreationDate': \"D:20090812163539+10'00'\", '/Subject': 'Reference Quality Electronic Book Version of the British Bloomsbury Hard Cover', '/Author': 'J.K. Rowling', '/Creator': 'PScript5.dll Version 5.2', '/Keywords': \"During his third year at Hogwarts School for Witchcraft and Wizardry; Harry Potter must confront the devious and dangerous wizard responsible for his parents' deaths.\", '/Producer': 'Acrobat Distiller 7.0 (Windows)', '/ModDate': \"D:20090812163816+10'00'\", '/Title': 'Harry Potter and the Prisoner of Azkaban'}\n",
      "1.3 МБ\n",
      "{'/CreationDate': \"D:20090814154118+10'00'\", '/Subject': 'Reference Quality Electronic Book Version of the British Bloomsbury Hard Cover', '/Author': 'J.K. Rowling', '/Creator': 'PScript5.dll Version 5.2', '/Keywords': 'Fourteen-year-old Harry Potter joins the Weasleys at the Quidditch World Cup; then enters his fourth year at Hogwarts Academy where he is mysteriously entered in an unusual contest that challenges his wizarding skills; friendships and character; amid signs that an old enemy is growing stronger.', '/Producer': 'Acrobat Distiller 7.0 (Windows)', '/ModDate': \"D:20090814154354+10'00'\", '/Title': 'Harry Potter and the Goblet of Fire'}\n",
      "2.1 МБ\n",
      "{'/CreationDate': \"D:20090812164521+10'00'\", '/Subject': 'Reference Quality Electronic Book Version of the British Bloomsbury Hard Cover', '/Author': 'J.K. Rowling', '/Creator': 'PScript5.dll Version 5.2', '/Keywords': \"Harry struggles through his fifth year at Hogwarts; including the surreptitious return of Harry's nemesis Lord Voldemort; O.W.L. exams; awkward teenage love and an obstructive Ministry of Magic.\", '/Producer': 'Acrobat Distiller 7.0 (Windows)', '/ModDate': \"D:20090812164727+10'00'\", '/Title': 'Harry Potter and the Order of the Phoenix'}\n",
      "2.8 МБ\n",
      "{'/CreationDate': \"D:20090815114026+10'00'\", '/Subject': 'Reference Quality Electronic Book Version of the British Bloomsbury Hard Cover', '/Author': 'J.K. Rowling', '/Creator': 'PScript5.dll Version 5.2', '/Keywords': \"Set during Harry Potter's sixth year at Hogwarts; the novel explores Lord Voldemort's past; and Harry's preparations for the final battle amidst emerging romantic relationships and the emotional confusions and conflict resolutions characteristic of mid-adolescence.\", '/Producer': 'Acrobat Distiller 7.0 (Windows)', '/ModDate': \"D:20090815114240+10'00'\", '/Title': 'Harry Potter and the Half-Blood Prince'}\n",
      "1.9 МБ\n",
      "{'/CreationDate': \"D:20090815190227+10'00'\", '/Subject': 'Reference Quality Electronic Book Version of the British Bloomsbury Hard Cover', '/Author': 'J.K. Rowling', '/Creator': 'PScript5.dll Version 5.2', '/Keywords': \"It all comes down to this - a final face off between good and evil. You plan to pull out all the stops; but every time you solve one mystery; three more evolve. Do you stay the course you started; despite your lack of progress? Do you detour and follow a new lead that may not help? Do you listen to your instincts; or your friends? Lord Voldemort is preparing for battle and so must Harry. With Ron and Hermione at his side; he's trying to hunt down Voldemort's Horcruxes; escape danger at every turn; and find a way to defeat evil once and for all. How does it all end?\", '/Producer': 'Acrobat Distiller 7.0 (Windows)', '/ModDate': \"D:20090815190733+10'00'\", '/Title': 'Harry Potter and the Deathly Hallows'}\n",
      "2.2 МБ\n",
      "{'/ModDate': \"D:20140317185942+01'00'\", '/Producer': 'ABBYY FineReader 11', '/CreationDate': 'D:20140124222507Z', '/PXCViewerInfo': \"PDF-XChange Viewer;2.5.198.0;Sep 16 2011;22:45:06;D:20140317185942+01'00'\"}\n",
      "1.0 МБ\n"
     ]
    }
   ],
   "source": [
    "# Обрабатываем каталог 'books' с учетом файлов типа 'pdf', исключая подкаталог 'exclude_dir'\n",
    "analyzer.process_directory('books', ['pdf'], ['exclude_dir'], 5)"
   ]
  },
  {
   "cell_type": "code",
   "execution_count": 3,
   "metadata": {},
   "outputs": [
    {
     "ename": "TypeError",
     "evalue": "tuple indices must be integers or slices, not str",
     "output_type": "error",
     "traceback": [
      "\u001b[1;31m---------------------------------------------------------------------------\u001b[0m",
      "\u001b[1;31mTypeError\u001b[0m                                 Traceback (most recent call last)",
      "Cell \u001b[1;32mIn[3], line 2\u001b[0m\n\u001b[0;32m      1\u001b[0m \u001b[39m# Генерируем веб-страницу 'books.html' с информацией о книгах\u001b[39;00m\n\u001b[1;32m----> 2\u001b[0m analyzer\u001b[39m.\u001b[39;49mgenerate_web_page(\u001b[39m'\u001b[39;49m\u001b[39mbooks.html\u001b[39;49m\u001b[39m'\u001b[39;49m)\n",
      "File \u001b[1;32mc:\\Users\\79251\\Desktop\\ВУЗ\\4 семестр\\Курсовой проект\\kurs_project_4\\bookAnalyzer.py:142\u001b[0m, in \u001b[0;36mBookAnalyzer.generate_web_page\u001b[1;34m(self, output_path)\u001b[0m\n\u001b[0;32m    140\u001b[0m \u001b[39m# Конвертируем превью из BLOB в base64 для отображения на веб-странице\u001b[39;00m\n\u001b[0;32m    141\u001b[0m \u001b[39mfor\u001b[39;00m book \u001b[39min\u001b[39;00m books:\n\u001b[1;32m--> 142\u001b[0m     book[\u001b[39m'\u001b[39m\u001b[39mpreview\u001b[39m\u001b[39m'\u001b[39m] \u001b[39m=\u001b[39m base64\u001b[39m.\u001b[39mb64encode(book[\u001b[39m'\u001b[39;49m\u001b[39mpreview\u001b[39;49m\u001b[39m'\u001b[39;49m])\u001b[39m.\u001b[39mdecode(\u001b[39m'\u001b[39m\u001b[39mutf-8\u001b[39m\u001b[39m'\u001b[39m)\n\u001b[0;32m    144\u001b[0m \u001b[39m# Загружаем шаблон из файла\u001b[39;00m\n\u001b[0;32m    145\u001b[0m env \u001b[39m=\u001b[39m Environment(loader\u001b[39m=\u001b[39mFileSystemLoader(\u001b[39m'\u001b[39m\u001b[39m.\u001b[39m\u001b[39m'\u001b[39m))\n",
      "\u001b[1;31mTypeError\u001b[0m: tuple indices must be integers or slices, not str"
     ]
    }
   ],
   "source": [
    "# Генерируем веб-страницу 'books.html' с информацией о книгах\n",
    "analyzer.generate_web_page('books.html')"
   ]
  },
  {
   "cell_type": "code",
   "execution_count": 4,
   "metadata": {},
   "outputs": [
    {
     "data": {
      "text/html": [
       "<table>\n",
       "    <thead>\n",
       "        <tr>\n",
       "            <th>id</th>\n",
       "            <th>title</th>\n",
       "            <th>author</th>\n",
       "            <th>publication_year</th>\n",
       "            <th>file_path</th>\n",
       "            <th>file_size</th>\n",
       "            <th>num_pages</th>\n",
       "            <th>preview</th>\n",
       "            <th>metadata</th>\n",
       "        </tr>\n",
       "    </thead>\n",
       "    <tbody>\n",
       "        <tr>\n",
       "            <td>1</td>\n",
       "            <td>Как прожить сто лет и изящно состариться</td>\n",
       "            <td>Джеймс Мартин Пиблз</td>\n",
       "            <td>None</td>\n",
       "            <td>books\\98954389.a4.pdf</td>\n",
       "            <td>309.5 КБ</td>\n",
       "            <td>20</td>\n",
       "            <td>None</td>\n",
       "            <td>{&#x27;/Creator&#x27;: &#x27;Apache FOP Version svn-trunk&#x27;, &#x27;/CreationDate&#x27;: &quot;D:20230515224139+03&#x27;00&#x27;&quot;, &#x27;/Producer&#x27;: &#x27;Apache FOP Version svn-trunk&#x27;, &#x27;/Subject&#x27;: &#x27;home_health&#x27;, &#x27;/Author&#x27;: &#x27;Джеймс Мартин Пиблз&#x27;, &#x27;/Title&#x27;: &#x27;Как прожить сто лет и изящно состариться&#x27;}</td>\n",
       "        </tr>\n",
       "        <tr>\n",
       "            <td>2</td>\n",
       "            <td>Harry Potter and the Philosopher&#x27;s Stone</td>\n",
       "            <td>J.K. Rowling</td>\n",
       "            <td>None</td>\n",
       "            <td>books\\Harry_Potter_eng\\HP_1_-_Harry_Potter_and_the_Philosopher&#x27;s_Stone.pdf</td>\n",
       "            <td>1.1 МБ</td>\n",
       "            <td>231</td>\n",
       "            <td>None</td>\n",
       "            <td>{&#x27;/CreationDate&#x27;: &quot;D:20090817225108+10&#x27;00&#x27;&quot;, &#x27;/Subject&#x27;: &#x27;Reference Quality Electronic Book Version of the British Bloomsbury Hard Cover&#x27;, &#x27;/Author&#x27;: &#x27;J.K. Rowling&#x27;, &#x27;/Creator&#x27;: &#x27;PScript5.dll Version 5.2&#x27;, &#x27;/Keywords&#x27;: &#x27;Rescued from the outrageous neglect of his aunt and uncle; a young boy with a great destiny proves his worth while attending Hogwarts School of Witchcraft and Wizardry.&#x27;, &#x27;/Producer&#x27;: &#x27;Acrobat Distiller 7.0 (Windows)&#x27;, &#x27;/ModDate&#x27;: &quot;D:20090817225334+10&#x27;00&#x27;&quot;, &#x27;/Title&#x27;: &quot;Harry Potter and the Philosopher&#x27;s Stone&quot;}</td>\n",
       "        </tr>\n",
       "        <tr>\n",
       "            <td>3</td>\n",
       "            <td>Harry Potter and the Chamber of Secrets</td>\n",
       "            <td>J.K. Rowling</td>\n",
       "            <td>None</td>\n",
       "            <td>books\\Harry_Potter_eng\\HP_2_-_Harry_Potter_and_the_Chamber_of_Secrets.pdf</td>\n",
       "            <td>1.2 МБ</td>\n",
       "            <td>259</td>\n",
       "            <td>None</td>\n",
       "            <td>{&#x27;/CreationDate&#x27;: &quot;D:20090813171622+10&#x27;00&#x27;&quot;, &#x27;/Subject&#x27;: &#x27;Reference Quality Electronic Book Version of the British Bloomsbury Hard Cover&#x27;, &#x27;/Author&#x27;: &#x27;J.K. Rowling&#x27;, &#x27;/Creator&#x27;: &#x27;PScript5.dll Version 5.2&#x27;, &#x27;/Keywords&#x27;: &#x27;When the Chamber of Secrets is opened again at the Hogwarts School of Witchcraft and Wizardry; second-year student Harry Potter finds himself in danger from a dark power that has once more been released on the school.&#x27;, &#x27;/Producer&#x27;: &#x27;Acrobat Distiller 7.0 (Windows)&#x27;, &#x27;/ModDate&#x27;: &quot;D:20090813171838+10&#x27;00&#x27;&quot;, &#x27;/Title&#x27;: &#x27;Harry Potter and the Chamber of Secrets&#x27;}</td>\n",
       "        </tr>\n",
       "        <tr>\n",
       "            <td>4</td>\n",
       "            <td>Harry Potter and the Prisoner of Azkaban</td>\n",
       "            <td>J.K. Rowling</td>\n",
       "            <td>None</td>\n",
       "            <td>books\\Harry_Potter_eng\\HP_3_-_Harry_Potter_and_the_Prisoner_of_Azkaban.pdf</td>\n",
       "            <td>1.3 МБ</td>\n",
       "            <td>325</td>\n",
       "            <td>None</td>\n",
       "            <td>{&#x27;/CreationDate&#x27;: &quot;D:20090812163539+10&#x27;00&#x27;&quot;, &#x27;/Subject&#x27;: &#x27;Reference Quality Electronic Book Version of the British Bloomsbury Hard Cover&#x27;, &#x27;/Author&#x27;: &#x27;J.K. Rowling&#x27;, &#x27;/Creator&#x27;: &#x27;PScript5.dll Version 5.2&#x27;, &#x27;/Keywords&#x27;: &quot;During his third year at Hogwarts School for Witchcraft and Wizardry; Harry Potter must confront the devious and dangerous wizard responsible for his parents&#x27; deaths.&quot;, &#x27;/Producer&#x27;: &#x27;Acrobat Distiller 7.0 (Windows)&#x27;, &#x27;/ModDate&#x27;: &quot;D:20090812163816+10&#x27;00&#x27;&quot;, &#x27;/Title&#x27;: &#x27;Harry Potter and the Prisoner of Azkaban&#x27;}</td>\n",
       "        </tr>\n",
       "        <tr>\n",
       "            <td>5</td>\n",
       "            <td>Harry Potter and the Goblet of Fire</td>\n",
       "            <td>J.K. Rowling</td>\n",
       "            <td>None</td>\n",
       "            <td>books\\Harry_Potter_eng\\HP_4_-_Harry_Potter_and_the_Goblet_of_Fire.pdf</td>\n",
       "            <td>2.1 МБ</td>\n",
       "            <td>643</td>\n",
       "            <td>None</td>\n",
       "            <td>{&#x27;/CreationDate&#x27;: &quot;D:20090814154118+10&#x27;00&#x27;&quot;, &#x27;/Subject&#x27;: &#x27;Reference Quality Electronic Book Version of the British Bloomsbury Hard Cover&#x27;, &#x27;/Author&#x27;: &#x27;J.K. Rowling&#x27;, &#x27;/Creator&#x27;: &#x27;PScript5.dll Version 5.2&#x27;, &#x27;/Keywords&#x27;: &#x27;Fourteen-year-old Harry Potter joins the Weasleys at the Quidditch World Cup; then enters his fourth year at Hogwarts Academy where he is mysteriously entered in an unusual contest that challenges his wizarding skills; friendships and character; amid signs that an old enemy is growing stronger.&#x27;, &#x27;/Producer&#x27;: &#x27;Acrobat Distiller 7.0 (Windows)&#x27;, &#x27;/ModDate&#x27;: &quot;D:20090814154354+10&#x27;00&#x27;&quot;, &#x27;/Title&#x27;: &#x27;Harry Potter and the Goblet of Fire&#x27;}</td>\n",
       "        </tr>\n",
       "        <tr>\n",
       "            <td>6</td>\n",
       "            <td>Harry Potter and the Order of the Phoenix</td>\n",
       "            <td>J.K. Rowling</td>\n",
       "            <td>None</td>\n",
       "            <td>books\\Harry_Potter_eng\\HP_5_-_Harry_Potter_and_the_Order_of_the_Phoenix.pdf</td>\n",
       "            <td>2.8 МБ</td>\n",
       "            <td>773</td>\n",
       "            <td>None</td>\n",
       "            <td>{&#x27;/CreationDate&#x27;: &quot;D:20090812164521+10&#x27;00&#x27;&quot;, &#x27;/Subject&#x27;: &#x27;Reference Quality Electronic Book Version of the British Bloomsbury Hard Cover&#x27;, &#x27;/Author&#x27;: &#x27;J.K. Rowling&#x27;, &#x27;/Creator&#x27;: &#x27;PScript5.dll Version 5.2&#x27;, &#x27;/Keywords&#x27;: &quot;Harry struggles through his fifth year at Hogwarts; including the surreptitious return of Harry&#x27;s nemesis Lord Voldemort; O.W.L. exams; awkward teenage love and an obstructive Ministry of Magic.&quot;, &#x27;/Producer&#x27;: &#x27;Acrobat Distiller 7.0 (Windows)&#x27;, &#x27;/ModDate&#x27;: &quot;D:20090812164727+10&#x27;00&#x27;&quot;, &#x27;/Title&#x27;: &#x27;Harry Potter and the Order of the Phoenix&#x27;}</td>\n",
       "        </tr>\n",
       "        <tr>\n",
       "            <td>7</td>\n",
       "            <td>Harry Potter and the Half-Blood Prince</td>\n",
       "            <td>J.K. Rowling</td>\n",
       "            <td>None</td>\n",
       "            <td>books\\Harry_Potter_eng\\HP_6_-_Harry_Potter_and_the_Half-Blood_Prince.pdf</td>\n",
       "            <td>1.9 МБ</td>\n",
       "            <td>615</td>\n",
       "            <td>None</td>\n",
       "            <td>{&#x27;/CreationDate&#x27;: &quot;D:20090815114026+10&#x27;00&#x27;&quot;, &#x27;/Subject&#x27;: &#x27;Reference Quality Electronic Book Version of the British Bloomsbury Hard Cover&#x27;, &#x27;/Author&#x27;: &#x27;J.K. Rowling&#x27;, &#x27;/Creator&#x27;: &#x27;PScript5.dll Version 5.2&#x27;, &#x27;/Keywords&#x27;: &quot;Set during Harry Potter&#x27;s sixth year at Hogwarts; the novel explores Lord Voldemort&#x27;s past; and Harry&#x27;s preparations for the final battle amidst emerging romantic relationships and the emotional confusions and conflict resolutions characteristic of mid-adolescence.&quot;, &#x27;/Producer&#x27;: &#x27;Acrobat Distiller 7.0 (Windows)&#x27;, &#x27;/ModDate&#x27;: &quot;D:20090815114240+10&#x27;00&#x27;&quot;, &#x27;/Title&#x27;: &#x27;Harry Potter and the Half-Blood Prince&#x27;}</td>\n",
       "        </tr>\n",
       "        <tr>\n",
       "            <td>8</td>\n",
       "            <td>Harry Potter and the Deathly Hallows</td>\n",
       "            <td>J.K. Rowling</td>\n",
       "            <td>None</td>\n",
       "            <td>books\\Harry_Potter_eng\\HP_7_-_Harry_Potter_and_the_Deathly_Hallows.pdf</td>\n",
       "            <td>2.2 МБ</td>\n",
       "            <td>615</td>\n",
       "            <td>None</td>\n",
       "            <td>{&#x27;/CreationDate&#x27;: &quot;D:20090815190227+10&#x27;00&#x27;&quot;, &#x27;/Subject&#x27;: &#x27;Reference Quality Electronic Book Version of the British Bloomsbury Hard Cover&#x27;, &#x27;/Author&#x27;: &#x27;J.K. Rowling&#x27;, &#x27;/Creator&#x27;: &#x27;PScript5.dll Version 5.2&#x27;, &#x27;/Keywords&#x27;: &quot;It all comes down to this - a final face off between good and evil. You plan to pull out all the stops; but every time you solve one mystery; three more evolve. Do you stay the course you started; despite your lack of progress? Do you detour and follow a new lead that may not help? Do you listen to your instincts; or your friends? Lord Voldemort is preparing for battle and so must Harry. With Ron and Hermione at his side; he&#x27;s trying to hunt down Voldemort&#x27;s Horcruxes; escape danger at every turn; and find a way to defeat evil once and for all. How does it all end?&quot;, &#x27;/Producer&#x27;: &#x27;Acrobat Distiller 7.0 (Windows)&#x27;, &#x27;/ModDate&#x27;: &quot;D:20090815190733+10&#x27;00&#x27;&quot;, &#x27;/Title&#x27;: &#x27;Harry Potter and the Deathly Hallows&#x27;}</td>\n",
       "        </tr>\n",
       "        <tr>\n",
       "            <td>9</td>\n",
       "            <td>The_Jungle_Book_level_2</td>\n",
       "            <td>None</td>\n",
       "            <td>None</td>\n",
       "            <td>books\\The_Jungle_Book_eng\\The_Jungle_Book_level_2.pdf</td>\n",
       "            <td>1.0 МБ</td>\n",
       "            <td>50</td>\n",
       "            <td>None</td>\n",
       "            <td>{&#x27;/ModDate&#x27;: &quot;D:20140317185942+01&#x27;00&#x27;&quot;, &#x27;/Producer&#x27;: &#x27;ABBYY FineReader 11&#x27;, &#x27;/CreationDate&#x27;: &#x27;D:20140124222507Z&#x27;, &#x27;/PXCViewerInfo&#x27;: &quot;PDF-XChange Viewer;2.5.198.0;Sep 16 2011;22:45:06;D:20140317185942+01&#x27;00&#x27;&quot;}</td>\n",
       "        </tr>\n",
       "    </tbody>\n",
       "</table>"
      ],
      "text/plain": [
       "+----+-------------------------------------------+---------------------+------------------+-----------------------------------------------------------------------------+-----------+-----------+---------+--------------------------------------------------------------------------------------------------------------------------------------------------------------------------------------------------------------------------------------------------------------------------------------------------------------------------------------------------------------------------------------------------------------------------------------------------------------------------------------------------------------------------------------------------------------------------------------------------------------------------------------------------------------------------------------------------------------------------------------------------------------------------------------------------------------------------------------------------------------------------------------------------------------------------------------------------------------------+\n",
       "| id |                   title                   |        author       | publication_year |                                  file_path                                  | file_size | num_pages | preview |                                                                                                                                                                                                                                                                                                                                                                                                                                                                              metadata                                                                                                                                                                                                                                                                                                                                                                                                                                                                              |\n",
       "+----+-------------------------------------------+---------------------+------------------+-----------------------------------------------------------------------------+-----------+-----------+---------+--------------------------------------------------------------------------------------------------------------------------------------------------------------------------------------------------------------------------------------------------------------------------------------------------------------------------------------------------------------------------------------------------------------------------------------------------------------------------------------------------------------------------------------------------------------------------------------------------------------------------------------------------------------------------------------------------------------------------------------------------------------------------------------------------------------------------------------------------------------------------------------------------------------------------------------------------------------------+\n",
       "| 1  |  Как прожить сто лет и изящно состариться | Джеймс Мартин Пиблз |       None       |                            books\\98954389.a4.pdf                            |  309.5 КБ |     20    |   None  |                                                                                                                                                                                                                                                                                                                                                      {'/Creator': 'Apache FOP Version svn-trunk', '/CreationDate': \"D:20230515224139+03'00'\", '/Producer': 'Apache FOP Version svn-trunk', '/Subject': 'home_health', '/Author': 'Джеймс Мартин Пиблз', '/Title': 'Как прожить сто лет и изящно состариться'}                                                                                                                                                                                                                                                                                                                                                      |\n",
       "| 2  |  Harry Potter and the Philosopher's Stone |     J.K. Rowling    |       None       |  books\\Harry_Potter_eng\\HP_1_-_Harry_Potter_and_the_Philosopher's_Stone.pdf |   1.1 МБ  |    231    |   None  |                                                                                                                                                                                                        {'/CreationDate': \"D:20090817225108+10'00'\", '/Subject': 'Reference Quality Electronic Book Version of the British Bloomsbury Hard Cover', '/Author': 'J.K. Rowling', '/Creator': 'PScript5.dll Version 5.2', '/Keywords': 'Rescued from the outrageous neglect of his aunt and uncle; a young boy with a great destiny proves his worth while attending Hogwarts School of Witchcraft and Wizardry.', '/Producer': 'Acrobat Distiller 7.0 (Windows)', '/ModDate': \"D:20090817225334+10'00'\", '/Title': \"Harry Potter and the Philosopher's Stone\"}                                                                                                                                                                                                         |\n",
       "| 3  |  Harry Potter and the Chamber of Secrets  |     J.K. Rowling    |       None       |  books\\Harry_Potter_eng\\HP_2_-_Harry_Potter_and_the_Chamber_of_Secrets.pdf  |   1.2 МБ  |    259    |   None  |                                                                                                                                                                                {'/CreationDate': \"D:20090813171622+10'00'\", '/Subject': 'Reference Quality Electronic Book Version of the British Bloomsbury Hard Cover', '/Author': 'J.K. Rowling', '/Creator': 'PScript5.dll Version 5.2', '/Keywords': 'When the Chamber of Secrets is opened again at the Hogwarts School of Witchcraft and Wizardry; second-year student Harry Potter finds himself in danger from a dark power that has once more been released on the school.', '/Producer': 'Acrobat Distiller 7.0 (Windows)', '/ModDate': \"D:20090813171838+10'00'\", '/Title': 'Harry Potter and the Chamber of Secrets'}                                                                                                                                                                                 |\n",
       "| 4  |  Harry Potter and the Prisoner of Azkaban |     J.K. Rowling    |       None       |  books\\Harry_Potter_eng\\HP_3_-_Harry_Potter_and_the_Prisoner_of_Azkaban.pdf |   1.3 МБ  |    325    |   None  |                                                                                                                                                                                                         {'/CreationDate': \"D:20090812163539+10'00'\", '/Subject': 'Reference Quality Electronic Book Version of the British Bloomsbury Hard Cover', '/Author': 'J.K. Rowling', '/Creator': 'PScript5.dll Version 5.2', '/Keywords': \"During his third year at Hogwarts School for Witchcraft and Wizardry; Harry Potter must confront the devious and dangerous wizard responsible for his parents' deaths.\", '/Producer': 'Acrobat Distiller 7.0 (Windows)', '/ModDate': \"D:20090812163816+10'00'\", '/Title': 'Harry Potter and the Prisoner of Azkaban'}                                                                                                                                                                                                          |\n",
       "| 5  |    Harry Potter and the Goblet of Fire    |     J.K. Rowling    |       None       |    books\\Harry_Potter_eng\\HP_4_-_Harry_Potter_and_the_Goblet_of_Fire.pdf    |   2.1 МБ  |    643    |   None  |                                                                                                                                           {'/CreationDate': \"D:20090814154118+10'00'\", '/Subject': 'Reference Quality Electronic Book Version of the British Bloomsbury Hard Cover', '/Author': 'J.K. Rowling', '/Creator': 'PScript5.dll Version 5.2', '/Keywords': 'Fourteen-year-old Harry Potter joins the Weasleys at the Quidditch World Cup; then enters his fourth year at Hogwarts Academy where he is mysteriously entered in an unusual contest that challenges his wizarding skills; friendships and character; amid signs that an old enemy is growing stronger.', '/Producer': 'Acrobat Distiller 7.0 (Windows)', '/ModDate': \"D:20090814154354+10'00'\", '/Title': 'Harry Potter and the Goblet of Fire'}                                                                                                                                            |\n",
       "| 6  | Harry Potter and the Order of the Phoenix |     J.K. Rowling    |       None       | books\\Harry_Potter_eng\\HP_5_-_Harry_Potter_and_the_Order_of_the_Phoenix.pdf |   2.8 МБ  |    773    |   None  |                                                                                                                                                                                           {'/CreationDate': \"D:20090812164521+10'00'\", '/Subject': 'Reference Quality Electronic Book Version of the British Bloomsbury Hard Cover', '/Author': 'J.K. Rowling', '/Creator': 'PScript5.dll Version 5.2', '/Keywords': \"Harry struggles through his fifth year at Hogwarts; including the surreptitious return of Harry's nemesis Lord Voldemort; O.W.L. exams; awkward teenage love and an obstructive Ministry of Magic.\", '/Producer': 'Acrobat Distiller 7.0 (Windows)', '/ModDate': \"D:20090812164727+10'00'\", '/Title': 'Harry Potter and the Order of the Phoenix'}                                                                                                                                                                                           |\n",
       "| 7  |   Harry Potter and the Half-Blood Prince  |     J.K. Rowling    |       None       |   books\\Harry_Potter_eng\\HP_6_-_Harry_Potter_and_the_Half-Blood_Prince.pdf  |   1.9 МБ  |    615    |   None  |                                                                                                                                                         {'/CreationDate': \"D:20090815114026+10'00'\", '/Subject': 'Reference Quality Electronic Book Version of the British Bloomsbury Hard Cover', '/Author': 'J.K. Rowling', '/Creator': 'PScript5.dll Version 5.2', '/Keywords': \"Set during Harry Potter's sixth year at Hogwarts; the novel explores Lord Voldemort's past; and Harry's preparations for the final battle amidst emerging romantic relationships and the emotional confusions and conflict resolutions characteristic of mid-adolescence.\", '/Producer': 'Acrobat Distiller 7.0 (Windows)', '/ModDate': \"D:20090815114240+10'00'\", '/Title': 'Harry Potter and the Half-Blood Prince'}                                                                                                                                                         |\n",
       "| 8  |    Harry Potter and the Deathly Hallows   |     J.K. Rowling    |       None       |    books\\Harry_Potter_eng\\HP_7_-_Harry_Potter_and_the_Deathly_Hallows.pdf   |   2.2 МБ  |    615    |   None  | {'/CreationDate': \"D:20090815190227+10'00'\", '/Subject': 'Reference Quality Electronic Book Version of the British Bloomsbury Hard Cover', '/Author': 'J.K. Rowling', '/Creator': 'PScript5.dll Version 5.2', '/Keywords': \"It all comes down to this - a final face off between good and evil. You plan to pull out all the stops; but every time you solve one mystery; three more evolve. Do you stay the course you started; despite your lack of progress? Do you detour and follow a new lead that may not help? Do you listen to your instincts; or your friends? Lord Voldemort is preparing for battle and so must Harry. With Ron and Hermione at his side; he's trying to hunt down Voldemort's Horcruxes; escape danger at every turn; and find a way to defeat evil once and for all. How does it all end?\", '/Producer': 'Acrobat Distiller 7.0 (Windows)', '/ModDate': \"D:20090815190733+10'00'\", '/Title': 'Harry Potter and the Deathly Hallows'} |\n",
       "| 9  |          The_Jungle_Book_level_2          |         None        |       None       |            books\\The_Jungle_Book_eng\\The_Jungle_Book_level_2.pdf            |   1.0 МБ  |     50    |   None  |                                                                                                                                                                                                                                                                                                                                                                          {'/ModDate': \"D:20140317185942+01'00'\", '/Producer': 'ABBYY FineReader 11', '/CreationDate': 'D:20140124222507Z', '/PXCViewerInfo': \"PDF-XChange Viewer;2.5.198.0;Sep 16 2011;22:45:06;D:20140317185942+01'00'\"}                                                                                                                                                                                                                                                                                                                                                                          |\n",
       "+----+-------------------------------------------+---------------------+------------------+-----------------------------------------------------------------------------+-----------+-----------+---------+--------------------------------------------------------------------------------------------------------------------------------------------------------------------------------------------------------------------------------------------------------------------------------------------------------------------------------------------------------------------------------------------------------------------------------------------------------------------------------------------------------------------------------------------------------------------------------------------------------------------------------------------------------------------------------------------------------------------------------------------------------------------------------------------------------------------------------------------------------------------------------------------------------------------------------------------------------------------+"
      ]
     },
     "execution_count": 4,
     "metadata": {},
     "output_type": "execute_result"
    }
   ],
   "source": [
    "import sqlite3\n",
    "from prettytable import from_db_cursor\n",
    "\n",
    "# Создаем соединение с БД\n",
    "conn = sqlite3.connect('books.db')\n",
    "cursor = conn.cursor()\n",
    "\n",
    "# Пример запроса: получаем все книги, опубликованные после 2000 года\n",
    "cursor.execute(\"SELECT * FROM books\")\n",
    "from_db_cursor(cursor)"
   ]
  },
  {
   "cell_type": "code",
   "execution_count": null,
   "metadata": {},
   "outputs": [],
   "source": [
    "# Закрываем соединение\n",
    "conn.close()"
   ]
  }
 ],
 "metadata": {
  "kernelspec": {
   "display_name": "Python 3",
   "language": "python",
   "name": "python3"
  },
  "language_info": {
   "codemirror_mode": {
    "name": "ipython",
    "version": 3
   },
   "file_extension": ".py",
   "mimetype": "text/x-python",
   "name": "python",
   "nbconvert_exporter": "python",
   "pygments_lexer": "ipython3",
   "version": "3.11.2"
  },
  "orig_nbformat": 4
 },
 "nbformat": 4,
 "nbformat_minor": 2
}
